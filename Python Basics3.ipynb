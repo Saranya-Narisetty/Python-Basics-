{
 "cells": [
  {
   "cell_type": "markdown",
   "id": "bc5b4a1e-52b3-4b51-99d7-bddce2c61673",
   "metadata": {},
   "source": [
    "# Data Structures in Python"
   ]
  },
  {
   "cell_type": "code",
   "execution_count": 2,
   "id": "02c91aa6-ac85-4646-88c4-3b5f5abb554b",
   "metadata": {},
   "outputs": [
    {
     "name": "stdout",
     "output_type": "stream",
     "text": [
      "['CustardApple', 'Guava', 'Kiwi', 'Papaya', 'Pineapple']\n"
     ]
    }
   ],
   "source": [
    "# Task 1: Create a list of 5 fruits, then do the following:\n",
    "# - Append a new fruit to the list.\n",
    "# - Remove the second fruit from the list.\n",
    "# - Sort the list alphabetically.\n",
    "# - Print the final list.\n",
    "\n",
    "# Solution: \n",
    "# List of fruits\n",
    "fruits = [\"Papaya\", \"WaterMelon\", \"CustardApple\", \"Kiwi\", \"Guava\"]\n",
    "\n",
    "# Append a new fruit\n",
    "fruits.append(\"Pineapple\")\n",
    "\n",
    "# Remove the second fruit\n",
    "fruits.pop(1)\n",
    "\n",
    "# Sort the list alphabetically\n",
    "fruits.sort()\n",
    "\n",
    "# Print the final list\n",
    "print(fruits)"
   ]
  },
  {
   "cell_type": "code",
   "execution_count": 4,
   "id": "33418916-7dd5-4e5f-8325-a59144f05637",
   "metadata": {},
   "outputs": [
    {
     "name": "stdout",
     "output_type": "stream",
     "text": [
      "10\n",
      "4\n"
     ]
    }
   ],
   "source": [
    "# Task 2: Create a tuple of 4 numbers, then:\n",
    "# - Access and print the first element.\n",
    "# - Attempt to change the second element (this should cause an error, demonstrating immutability).\n",
    "# - Find the length of the tuple.\n",
    "\n",
    "#Solution: \n",
    "# Tuple of numbers\n",
    "numbers = (10, 20, 30, 40)\n",
    "\n",
    "# Access and print the first element\n",
    "print(numbers[0])\n",
    "\n",
    "# Attempt to change the second element (this will cause an error)\n",
    "# numbers[1] = 25\n",
    "\n",
    "# Find and print the length of the tuple\n",
    "print(len(numbers))"
   ]
  },
  {
   "cell_type": "code",
   "execution_count": 6,
   "id": "4c1f2ab0-c848-48a5-9368-ba5aaba8bbd5",
   "metadata": {},
   "outputs": [
    {
     "name": "stdout",
     "output_type": "stream",
     "text": [
      "{'France': 'Paris', 'India': 'Mumbai', 'Germany': 'Berlin'}\n"
     ]
    }
   ],
   "source": [
    "# Task 3: Create a dictionary of 3 countries and their capitals, then:\n",
    "# - Add a new country and its capital to the dictionary.\n",
    "# - Remove one country.\n",
    "# - Update the capital of an existing country.\n",
    "# - Print the dictionary.\n",
    "\n",
    "# Solution:\n",
    "# Dictionary of countries and capitals\n",
    "countries = {\"France\": \"Paris\", \"Japan\": \"Tokyo\", \"India\": \"New Delhi\"}\n",
    "\n",
    "# Add a new country and capital\n",
    "countries[\"Germany\"] = \"Berlin\"\n",
    "\n",
    "# Remove one country\n",
    "countries.pop(\"Japan\")\n",
    "\n",
    "# Update the capital of an existing country\n",
    "countries[\"India\"] = \"Mumbai\"\n",
    "\n",
    "# Print the dictionary\n",
    "print(countries)"
   ]
  },
  {
   "cell_type": "code",
   "execution_count": 8,
   "id": "5b027a76-c741-4e19-80e1-936e8c85b3d7",
   "metadata": {},
   "outputs": [
    {
     "name": "stdout",
     "output_type": "stream",
     "text": [
      "{1, 3, 4, 5}\n"
     ]
    }
   ],
   "source": [
    "# Task 4: Create a set of 4 numbers, then:\n",
    "# - Add a new number to the set.\n",
    "# - Try to add a duplicate number (it shouldn't be added).\n",
    "# - Remove a number from the set.\n",
    "# - Print the final set.\n",
    "\n",
    "#Solution:\n",
    "# Set of numbers\n",
    "numbers_set = {1, 2, 3, 4}\n",
    "\n",
    "# Add a new number\n",
    "numbers_set.add(5)\n",
    "\n",
    "# Try to add a duplicate number\n",
    "numbers_set.add(3)\n",
    "\n",
    "# Remove a number\n",
    "numbers_set.remove(2)\n",
    "\n",
    "# Print the final set\n",
    "print(numbers_set)"
   ]
  },
  {
   "cell_type": "code",
   "execution_count": null,
   "id": "0fee39e6-b1bd-497d-95f0-ff35a25a0929",
   "metadata": {},
   "outputs": [],
   "source": []
  }
 ],
 "metadata": {
  "kernelspec": {
   "display_name": "Python 3 (ipykernel)",
   "language": "python",
   "name": "python3"
  },
  "language_info": {
   "codemirror_mode": {
    "name": "ipython",
    "version": 3
   },
   "file_extension": ".py",
   "mimetype": "text/x-python",
   "name": "python",
   "nbconvert_exporter": "python",
   "pygments_lexer": "ipython3",
   "version": "3.12.7"
  }
 },
 "nbformat": 4,
 "nbformat_minor": 5
}
