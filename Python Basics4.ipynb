{
 "cells": [
  {
   "cell_type": "markdown",
   "id": "900b6812-cd8f-4f08-8983-79e963bc0fbe",
   "metadata": {},
   "source": [
    "# Exercise 1"
   ]
  },
  {
   "cell_type": "code",
   "execution_count": 2,
   "id": "fb92737f-1018-492a-b3fd-22d18cc635d3",
   "metadata": {},
   "outputs": [
    {
     "name": "stdout",
     "output_type": "stream",
     "text": [
      "Jane: 987-654\n",
      "Alice: 111-999\n",
      "Bob: 444-111\n",
      "987-654\n",
      "Contact not found.\n"
     ]
    }
   ],
   "source": [
    "# Task: Create a simple phone book using a dictionary where the keys are names and the values are phone numbers. Implement the following functionalities:\n",
    "\n",
    "# - Add a new contact.\n",
    "# - Search for a contact by name.\n",
    "# - Update an existing contact's phone number.\n",
    "# - Remove a contact.\n",
    "# - Print all the contacts.\n",
    "\n",
    "#Solution:\n",
    "# Phone book dictionary\n",
    "phone_book = {\"John\": \"123-456\", \"Jane\": \"987-654\", \"Alice\": \"555-333\"}\n",
    "\n",
    "# Add a new contact\n",
    "phone_book[\"Bob\"] = \"444-111\"\n",
    "\n",
    "# Search for a contact by name\n",
    "def search_contact(name):\n",
    "    return phone_book.get(name, \"Contact not found.\")\n",
    "\n",
    "# Update an existing contact's phone number\n",
    "phone_book[\"Alice\"] = \"111-999\"\n",
    "\n",
    "# Remove a contact\n",
    "phone_book.pop(\"John\", \"Contact not found.\")\n",
    "\n",
    "# Print all contacts\n",
    "for name, number in phone_book.items():\n",
    "    print(f\"{name}: {number}\")\n",
    "\n",
    "# Example usage of search\n",
    "print(search_contact(\"Jane\"))   # Should return Jane's number\n",
    "print(search_contact(\"Tom\"))    # Should return \"Contact not found.\""
   ]
  },
  {
   "cell_type": "markdown",
   "id": "1ee64469-1c70-4403-a6da-9079273493c8",
   "metadata": {},
   "source": [
    "# Exercise 2"
   ]
  },
  {
   "cell_type": "code",
   "execution_count": 7,
   "id": "c6a43f53-4995-4a83-845e-54c162d45259",
   "metadata": {},
   "outputs": [],
   "source": [
    "# Task: You are given a dataset of students and their exam scores. Your task is to analyze this dataset using Python lists, dictionaries, and basic operations. The dataset contains information on student names and their grades in different subjects.\n",
    "\n",
    "# You will perform the following:\n",
    "\n",
    "# - Calculate the average grade for each student.\n",
    "# - Determine the highest and lowest grade for each student.\n",
    "# - Find the student(s) with the highest average grade.\n",
    "# - Identify how many students passed and how many failed. (Consider passing grade >= 50)\n",
    "# - Print a summary of the class performance.\n",
    "\n",
    "#Solution\n",
    "# Data of students and their grades in a dictionary format\n",
    "students = [\n",
    "    {\"name\": \"Sara\", \"grades\": {\"Math\": 90, \"Science\": 85, \"History\": 88}},\n",
    "    {\"name\": \"Tara\", \"grades\": {\"Math\": 40, \"Science\": 42, \"History\": 38}},\n",
    "    {\"name\": \"Aira\", \"grades\": {\"Math\": 75, \"Science\": 70, \"History\": 80}},\n",
    "    {\"name\": \"Teena\", \"grades\": {\"Math\": 95, \"Science\": 92, \"History\": 94}},\n",
    "    {\"name\": \"Veena\", \"grades\": {\"Math\": 65, \"Science\": 60, \"History\": 70}},\n",
    "]"
   ]
  },
  {
   "cell_type": "code",
   "execution_count": 9,
   "id": "0683784b-b169-40f7-8f9b-4050f404f3bc",
   "metadata": {},
   "outputs": [
    {
     "name": "stdout",
     "output_type": "stream",
     "text": [
      "Sara: Average: 87.67, Highest: 90, Lowest: 85\n",
      "Tara: Average: 40.00, Highest: 42, Lowest: 38\n",
      "Aira: Average: 75.00, Highest: 80, Lowest: 70\n",
      "Teena: Average: 93.67, Highest: 95, Lowest: 92\n",
      "Veena: Average: 65.00, Highest: 70, Lowest: 60\n",
      "\n",
      "--- Summary ---\n",
      "Student with highest average: Teena (93.67)\n",
      "Number of passed students: 4\n",
      "Number of failed students: 1\n"
     ]
    }
   ],
   "source": [
    "# List to store each student's average, highest, and lowest grades\n",
    "results = []\n",
    "\n",
    "# Step 1: Calculate the average, highest, and lowest grades for each student\n",
    "for student in students:\n",
    "    name = student[\"name\"]\n",
    "    grades = student[\"grades\"]\n",
    "\n",
    "    # Calculate average grade\n",
    "    average_grade = sum(grades.values()) / len(grades)\n",
    "\n",
    "    # Find highest and lowest grade\n",
    "    highest_grade = max(grades.values())\n",
    "    lowest_grade = min(grades.values())\n",
    "\n",
    "    # Store the results\n",
    "    results.append({\n",
    "        \"name\": name,\n",
    "        \"average\": average_grade,\n",
    "        \"highest\": highest_grade,\n",
    "        \"lowest\": lowest_grade\n",
    "    })\n",
    "\n",
    "# Step 2: Determine the highest average grade\n",
    "highest_avg = max(results, key=lambda x: x[\"average\"])\n",
    "\n",
    "# Step 3: Count how many students passed or failed\n",
    "passed_students = [student for student in results if student[\"average\"] >= 50]\n",
    "failed_students = [student for student in results if student[\"average\"] < 50]\n",
    "\n",
    "# Step 4: Print the results\n",
    "for student in results:\n",
    "    print(f\"{student['name']}: Average: {student['average']:.2f}, Highest: {student['highest']}, Lowest: {student['lowest']}\")\n",
    "\n",
    "print(\"\\n--- Summary ---\")\n",
    "print(f\"Student with highest average: {highest_avg['name']} ({highest_avg['average']:.2f})\")\n",
    "print(f\"Number of passed students: {len(passed_students)}\")\n",
    "print(f\"Number of failed students: {len(failed_students)}\")\n"
   ]
  },
  {
   "cell_type": "code",
   "execution_count": null,
   "id": "0de779cf-94d9-43ee-8551-1795e4348939",
   "metadata": {},
   "outputs": [],
   "source": [
    "# Expected output:\n",
    "'''\n",
    "\n",
    "'''"
   ]
  }
 ],
 "metadata": {
  "kernelspec": {
   "display_name": "Python 3 (ipykernel)",
   "language": "python",
   "name": "python3"
  },
  "language_info": {
   "codemirror_mode": {
    "name": "ipython",
    "version": 3
   },
   "file_extension": ".py",
   "mimetype": "text/x-python",
   "name": "python",
   "nbconvert_exporter": "python",
   "pygments_lexer": "ipython3",
   "version": "3.12.7"
  }
 },
 "nbformat": 4,
 "nbformat_minor": 5
}
