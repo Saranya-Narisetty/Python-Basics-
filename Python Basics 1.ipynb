{
 "cells": [
  {
   "cell_type": "markdown",
   "id": "1432b931-ce76-48d3-a923-4e2a100039f7",
   "metadata": {},
   "source": [
    "# Variable"
   ]
  },
  {
   "cell_type": "code",
   "execution_count": 2,
   "id": "480d73b3-884c-4a1e-9efd-4ed22b5d6aa8",
   "metadata": {},
   "outputs": [],
   "source": [
    "# Step1: Create a variable a and assign it the value 50.\n",
    "a = 50"
   ]
  },
  {
   "cell_type": "code",
   "execution_count": 4,
   "id": "bf8bf85f-25fe-48af-b540-1490d16ffea0",
   "metadata": {},
   "outputs": [],
   "source": [
    "# Step 2: Create another variable b and assign it the value 30.5.\n",
    "b = 30.5"
   ]
  },
  {
   "cell_type": "code",
   "execution_count": 6,
   "id": "b4286143-9ad1-4c4a-aab3-76d2d016b8d1",
   "metadata": {},
   "outputs": [
    {
     "name": "stdout",
     "output_type": "stream",
     "text": [
      "Value of a: 50 Type of a: <class 'int'>\n",
      "Value of b: 30.5 Type of b: <class 'float'>\n"
     ]
    }
   ],
   "source": [
    "# Step 3: Print their values and types.\n",
    "print(\"Value of a:\", a, \"Type of a:\", type(a))\n",
    "print(\"Value of b:\", b, \"Type of b:\", type(b))"
   ]
  },
  {
   "cell_type": "markdown",
   "id": "f9690e98-f697-4853-8cf6-a82eefeda3f4",
   "metadata": {},
   "source": [
    "# Operators"
   ]
  },
  {
   "cell_type": "code",
   "execution_count": 11,
   "id": "bfacea22-b910-4580-97c2-858ac8f6c1f5",
   "metadata": {},
   "outputs": [
    {
     "name": "stdout",
     "output_type": "stream",
     "text": [
      "Addition: 80.5\n",
      "Subtraction: 19.5\n",
      "Multiplication: 1525.0\n",
      "Floor Division: 1.0\n"
     ]
    }
   ],
   "source": [
    "# Step1: Using variables a and b from variables  perform the following operations:\n",
    "# Addition\n",
    "addition = a + b\n",
    "print(\"Addition:\", addition)\n",
    "\n",
    "# Subtraction\n",
    "subtraction = a - b\n",
    "print(\"Subtraction:\", subtraction)\n",
    "\n",
    "# Multiplication\n",
    "multiplication = a * b\n",
    "print(\"Multiplication:\", multiplication)\n",
    "\n",
    "# Floor Division\n",
    "floor_division = a // b\n",
    "print(\"Floor Division:\", floor_division)\n"
   ]
  },
  {
   "cell_type": "code",
   "execution_count": 13,
   "id": "1fe11a68-8d2d-475d-9e15-0b562db9c06a",
   "metadata": {},
   "outputs": [
    {
     "name": "stdout",
     "output_type": "stream",
     "text": [
      "Is 'a' greater than 'b'? : True\n"
     ]
    }
   ],
   "source": [
    "# Step2: Compare the two variables to check if a is greater than b.\n",
    "is_a_greater = a > b\n",
    "print(\"Is 'a' greater than 'b'? :\", is_a_greater)"
   ]
  },
  {
   "cell_type": "code",
   "execution_count": 15,
   "id": "08cfb625-fe02-4acf-b6cb-773a14a1e82c",
   "metadata": {},
   "outputs": [
    {
     "name": "stdout",
     "output_type": "stream",
     "text": [
      "After swapping:\n",
      "Value of a: 30.5\n",
      "Value of b: 50\n"
     ]
    }
   ],
   "source": [
    "# Step3: Swap the values of a and b without using a third variable\n",
    "a, b = b, a\n",
    "print(\"After swapping:\")\n",
    "print(\"Value of a:\", a)\n",
    "print(\"Value of b:\", b)"
   ]
  },
  {
   "cell_type": "code",
   "execution_count": null,
   "id": "55a96cec-7912-433d-b74d-e1b0cdb566b8",
   "metadata": {},
   "outputs": [],
   "source": []
  }
 ],
 "metadata": {
  "kernelspec": {
   "display_name": "Python 3 (ipykernel)",
   "language": "python",
   "name": "python3"
  },
  "language_info": {
   "codemirror_mode": {
    "name": "ipython",
    "version": 3
   },
   "file_extension": ".py",
   "mimetype": "text/x-python",
   "name": "python",
   "nbconvert_exporter": "python",
   "pygments_lexer": "ipython3",
   "version": "3.12.7"
  }
 },
 "nbformat": 4,
 "nbformat_minor": 5
}
