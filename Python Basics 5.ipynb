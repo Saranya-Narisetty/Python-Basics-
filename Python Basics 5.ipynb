{
 "cells": [
  {
   "cell_type": "markdown",
   "id": "df629842-ef0b-4ef4-bf02-8fc97baf0e17",
   "metadata": {},
   "source": [
    "# Programming Paradigms in Python"
   ]
  },
  {
   "cell_type": "code",
   "execution_count": 2,
   "id": "4bc512ba-4b18-41a9-aaea-68322dff03d8",
   "metadata": {},
   "outputs": [
    {
     "name": "stdout",
     "output_type": "stream",
     "text": [
      "The factorial of 5 is 120.\n"
     ]
    }
   ],
   "source": [
    "# Task: Create a Function to Calculate Factorial\n",
    "# Write a function named factorial that takes a positive integer n as input and returns its factorial. The factorial of a non-negative integer n is the product of all positive integers less than or equal to n. For example, the factorial of 5 (denoted as 5!) is 5 × 4 × 3 × 2 × 1 = 120.\n",
    "\n",
    "\n",
    "#Solution: \n",
    "\n",
    "# Solution1: Simple Solution to exercise\n",
    "\n",
    "def factorial(n):\n",
    "    # This function calculates the factorial of a positive integer n\n",
    "    result = 1  # Initialize the result variable to 1\n",
    "    for i in range(1, n + 1):  # Loop from 1 to n (inclusive)\n",
    "        result *= i  # Multiply result by the current number i\n",
    "    return result  # Return the final factorial result\n",
    "\n",
    "number = 5  # Set the number for which we want to calculate the factorial\n",
    "print(f\"The factorial of {number} is {factorial(number)}.\")  # Output the result"
   ]
  },
  {
   "cell_type": "code",
   "execution_count": 4,
   "id": "2fcd20e9-fbb3-4877-a3ae-cab7059d72d6",
   "metadata": {},
   "outputs": [
    {
     "name": "stdout",
     "output_type": "stream",
     "text": [
      "The factorial of 5 is 120.\n"
     ]
    }
   ],
   "source": [
    "# Solution2:  Exact solution to exercise\n",
    "\n",
    "def factorial(n):\n",
    "    # This function calculates the factorial of a positive integer n\n",
    "    if n < 0:\n",
    "        return \"Factorial is not defined for negative numbers\"  # Check for negative input\n",
    "    elif n == 0 or n == 1:\n",
    "        return 1  # The factorial of 0 or 1 is 1\n",
    "    else:\n",
    "        result = 1  # Initialize a variable to hold the factorial result\n",
    "        for i in range(2, n + 1):  # Loop from 2 to n (inclusive)\n",
    "            result *= i  # Multiply result by the current number i\n",
    "        return result  # Return the final factorial result\n",
    "\n",
    "number = 5  # Set the number for which we want to calculate the factorial\n",
    "factorial_result = factorial(number)  # Call the factorial function\n",
    "print(f\"The factorial of {number} is {factorial_result}.\")  # Output the result"
   ]
  },
  {
   "cell_type": "code",
   "execution_count": null,
   "id": "effcf2ff-3c31-4375-9673-b4d93aedc6cf",
   "metadata": {},
   "outputs": [],
   "source": []
  }
 ],
 "metadata": {
  "kernelspec": {
   "display_name": "Python 3 (ipykernel)",
   "language": "python",
   "name": "python3"
  },
  "language_info": {
   "codemirror_mode": {
    "name": "ipython",
    "version": 3
   },
   "file_extension": ".py",
   "mimetype": "text/x-python",
   "name": "python",
   "nbconvert_exporter": "python",
   "pygments_lexer": "ipython3",
   "version": "3.12.7"
  }
 },
 "nbformat": 4,
 "nbformat_minor": 5
}
