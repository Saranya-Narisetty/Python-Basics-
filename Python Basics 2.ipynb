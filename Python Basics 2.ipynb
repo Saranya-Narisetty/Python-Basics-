{
 "cells": [
  {
   "cell_type": "markdown",
   "id": "b629985b-a271-4561-ad05-89f337f6585f",
   "metadata": {},
   "source": [
    "# Task 1: Simple Voting Eligibility Check"
   ]
  },
  {
   "cell_type": "code",
   "execution_count": 2,
   "id": "eae8473f-5995-4d70-a358-4be7ddbf032a",
   "metadata": {},
   "outputs": [
    {
     "name": "stdin",
     "output_type": "stream",
     "text": [
      "Enter your age:  24\n"
     ]
    },
    {
     "name": "stdout",
     "output_type": "stream",
     "text": [
      "You are eligible to vote.\n"
     ]
    }
   ],
   "source": [
    "#Task: Write a program that checks if a user is eligible to vote.\n",
    "\n",
    "#Instructions:\n",
    "\n",
    "#Ask the user for their age and use a conditional statement to check if they are at least 18 years old.\n",
    "#Print a message indicating whether they are eligible to vote or not.\n",
    "\n",
    "# Step1: Voting Eligibility Check (If eligible to vote)\n",
    "age = int(input(\"Enter your age: \"))\n",
    "\n",
    "if age >= 18:\n",
    "    print(\"You are eligible to vote.\")\n",
    "else:\n",
    "    print(\"You are not eligible to vote.\")"
   ]
  },
  {
   "cell_type": "code",
   "execution_count": 4,
   "id": "806ce1d3-e7f9-466a-b865-f6c50cb3408e",
   "metadata": {},
   "outputs": [
    {
     "name": "stdin",
     "output_type": "stream",
     "text": [
      "Enter your age:  15\n"
     ]
    },
    {
     "name": "stdout",
     "output_type": "stream",
     "text": [
      "You are not eligible to vote.\n"
     ]
    }
   ],
   "source": [
    "# Step2: Voting Eligibility Check (If not eligible to vote)\n",
    "age = int(input(\"Enter your age: \"))\n",
    "\n",
    "if age >= 18:\n",
    "    print(\"You are eligible to vote.\")\n",
    "else:\n",
    "    print(\"You are not eligible to vote.\")"
   ]
  },
  {
   "cell_type": "markdown",
   "id": "4cc52ad0-5d74-46c6-9cca-a0b48720ca82",
   "metadata": {},
   "source": [
    "# Task 2: Create a simple calculator\n"
   ]
  },
  {
   "cell_type": "code",
   "execution_count": 7,
   "id": "95d00d6a-2978-404c-b239-d561892307be",
   "metadata": {},
   "outputs": [
    {
     "name": "stdin",
     "output_type": "stream",
     "text": [
      "Enter the first number:  7\n",
      "Enter the second number:  5\n",
      "Enter the operation (+, -, *, /):  +\n"
     ]
    },
    {
     "name": "stdout",
     "output_type": "stream",
     "text": [
      "The result of 7.0 + 5.0 is 12.0.\n"
     ]
    }
   ],
   "source": [
    "# Task: Create a simple calculator that performs basic arithmetic operations.\n",
    "\n",
    "# Instructions:\n",
    "\n",
    "#Prompt the user for two numbers and an operation (addition, subtraction, multiplication, or division).\n",
    "#Use conditional statements to perform the requested operation and display the result.\n",
    "\n",
    "# Task2: Simple Calculator \n",
    "# Get user inputs \n",
    "# Step1: Addition\n",
    "num1 = float(input(\"Enter the first number: \"))\n",
    "num2 = float(input(\"Enter the second number: \"))\n",
    "operation = input(\"Enter the operation (+, -, *, /): \")\n",
    "\n",
    "# Perform the calculation based on the operation \n",
    "if operation == \"+\":\n",
    "    result = num1 + num2\n",
    "    print(f\"The result of {num1} + {num2} is {result}.\")\n",
    "elif operation == \"-\":\n",
    "    result = num1 - num2\n",
    "    print(f\"The result of {num1} - {num2} is {result}.\")\n",
    "elif operation == \"*\":\n",
    "    result = num1 * num2\n",
    "    print(f\"The result of {num1} * {num2} is {result}.\")\n",
    "elif operation == \"/\":\n",
    "    if num2 != 0:\n",
    "        result = num1 / num2\n",
    "        print(f\"The result of {num1} / {num2} is {result}.\")\n",
    "    else:\n",
    "        print(\"Error: Division by zero is not allowed.\")\n",
    "else:\n",
    "    print(\"Invalid operation entered.\")"
   ]
  },
  {
   "cell_type": "code",
   "execution_count": 9,
   "id": "7b385777-35ce-4d30-87be-33526bc3bb27",
   "metadata": {},
   "outputs": [
    {
     "name": "stdin",
     "output_type": "stream",
     "text": [
      "Enter the first number:  10\n",
      "Enter the second number:  2\n",
      "Enter the operation (+, -, *, /):  /\n"
     ]
    },
    {
     "name": "stdout",
     "output_type": "stream",
     "text": [
      "The result of 10.0 / 2.0 is 5.0.\n"
     ]
    }
   ],
   "source": [
    "# Step2: Division\n",
    "\n",
    "num1 = float(input(\"Enter the first number: \"))\n",
    "num2 = float(input(\"Enter the second number: \"))\n",
    "operation = input(\"Enter the operation (+, -, *, /): \")\n",
    "\n",
    "# Perform the calculation based on the operation \n",
    "if operation == \"+\":\n",
    "    result = num1 + num2\n",
    "    print(f\"The result of {num1} + {num2} is {result}.\")\n",
    "elif operation == \"-\":\n",
    "    result = num1 - num2\n",
    "    print(f\"The result of {num1} - {num2} is {result}.\")\n",
    "elif operation == \"*\":\n",
    "    result = num1 * num2\n",
    "    print(f\"The result of {num1} * {num2} is {result}.\")\n",
    "elif operation == \"/\":\n",
    "    if num2 != 0:\n",
    "        result = num1 / num2\n",
    "        print(f\"The result of {num1} / {num2} is {result}.\")\n",
    "    else:\n",
    "        print(\"Error: Division by zero is not allowed.\")\n",
    "else:\n",
    "    print(\"Invalid operation entered.\")"
   ]
  },
  {
   "cell_type": "code",
   "execution_count": 11,
   "id": "5613265b-4f5e-4bd2-aa71-2ba84d6c2a64",
   "metadata": {},
   "outputs": [
    {
     "name": "stdin",
     "output_type": "stream",
     "text": [
      "Enter the first number:  7\n",
      "Enter the second number:  0\n",
      "Enter the operation (+, -, *, /):  /\n"
     ]
    },
    {
     "name": "stdout",
     "output_type": "stream",
     "text": [
      "Error: Division by zero is not allowed.\n"
     ]
    }
   ],
   "source": [
    "# Step3: Division by zero\n",
    "\n",
    "num1 = float(input(\"Enter the first number: \"))\n",
    "num2 = float(input(\"Enter the second number: \"))\n",
    "operation = input(\"Enter the operation (+, -, *, /): \")\n",
    "\n",
    "# Perform the calculation based on the operation \n",
    "if operation == \"+\":\n",
    "    result = num1 + num2\n",
    "    print(f\"The result of {num1} + {num2} is {result}.\")\n",
    "elif operation == \"-\":\n",
    "    result = num1 - num2\n",
    "    print(f\"The result of {num1} - {num2} is {result}.\")\n",
    "elif operation == \"*\":\n",
    "    result = num1 * num2\n",
    "    print(f\"The result of {num1} * {num2} is {result}.\")\n",
    "elif operation == \"/\":\n",
    "    if num2 != 0:\n",
    "        result = num1 / num2\n",
    "        print(f\"The result of {num1} / {num2} is {result}.\")\n",
    "    else:\n",
    "        print(\"Error: Division by zero is not allowed.\")\n",
    "else:\n",
    "    print(\"Invalid operation entered.\")"
   ]
  },
  {
   "cell_type": "code",
   "execution_count": 13,
   "id": "e0b8aa14-e745-4643-a7b7-37d69aab35bc",
   "metadata": {},
   "outputs": [
    {
     "name": "stdin",
     "output_type": "stream",
     "text": [
      "Enter the first number:  6\n",
      "Enter the second number:  3\n",
      "Enter the operation (+, -, *, /):  ^\n"
     ]
    },
    {
     "name": "stdout",
     "output_type": "stream",
     "text": [
      "Invalid operation entered.\n"
     ]
    }
   ],
   "source": [
    "# Step4: Invalid Operation\n",
    "\n",
    "num1 = float(input(\"Enter the first number: \"))\n",
    "num2 = float(input(\"Enter the second number: \"))\n",
    "operation = input(\"Enter the operation (+, -, *, /): \")\n",
    "\n",
    "# Perform the calculation based on the operation \n",
    "if operation == \"+\":\n",
    "    result = num1 + num2\n",
    "    print(f\"The result of {num1} + {num2} is {result}.\")\n",
    "elif operation == \"-\":\n",
    "    result = num1 - num2\n",
    "    print(f\"The result of {num1} - {num2} is {result}.\")\n",
    "elif operation == \"*\":\n",
    "    result = num1 * num2\n",
    "    print(f\"The result of {num1} * {num2} is {result}.\")\n",
    "elif operation == \"/\":\n",
    "    if num2 != 0:\n",
    "        result = num1 / num2\n",
    "        print(f\"The result of {num1} / {num2} is {result}.\")\n",
    "    else:\n",
    "        print(\"Error: Division by zero is not allowed.\")\n",
    "else:\n",
    "    print(\"Invalid operation entered.\")"
   ]
  },
  {
   "cell_type": "code",
   "execution_count": null,
   "id": "8fe15573-99a5-4cf7-8a34-91888e781ccb",
   "metadata": {},
   "outputs": [],
   "source": []
  }
 ],
 "metadata": {
  "kernelspec": {
   "display_name": "Python 3 (ipykernel)",
   "language": "python",
   "name": "python3"
  },
  "language_info": {
   "codemirror_mode": {
    "name": "ipython",
    "version": 3
   },
   "file_extension": ".py",
   "mimetype": "text/x-python",
   "name": "python",
   "nbconvert_exporter": "python",
   "pygments_lexer": "ipython3",
   "version": "3.12.7"
  }
 },
 "nbformat": 4,
 "nbformat_minor": 5
}
